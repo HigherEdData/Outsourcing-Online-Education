{
 "cells": [
  {
   "cell_type": "markdown",
   "id": "24a6ecc1-b26f-42f0-8943-b2e628f0ccde",
   "metadata": {},
   "source": [
    "## Table A1: Variable Descriptions\n",
    "\n",
    "This notebook presents variable definitions and descriptions for the For-profit Side of Public U"
   ]
  },
  {
   "cell_type": "code",
   "execution_count": null,
   "id": "e814afed-f885-4f24-b747-8284b6dfb189",
   "metadata": {},
   "outputs": [],
   "source": [
    "* copy \"https://github.com/HigherEdData/Outsourcing-Online-Education/raw/main/data/d_OPM_database_paperJN.dta\" ///\n",
    "* data/d_OPM_database_paperJN.dta, replace"
   ]
  },
  {
   "cell_type": "code",
   "execution_count": 1,
   "id": "2a06ebd3-55f2-4584-a839-9d21b5c95e90",
   "metadata": {},
   "outputs": [
    {
     "data": {
      "text/html": [
       "<style>div.jp-Notebook .datagrid-container {min-height: 448px; }</style>"
      ],
      "text/plain": [
       "<IPython.core.display.HTML object>"
      ]
     },
     "metadata": {},
     "output_type": "display_data"
    }
   ],
   "source": [
    "use \"https://github.com/HigherEdData/Outsourcing-Online-Education/raw/main/data/d_OPM_database_paperJN.dta\", clear"
   ]
  },
  {
   "cell_type": "code",
   "execution_count": 2,
   "id": "3b9ccbdc-e2b4-4e86-9292-382e1adf484e",
   "metadata": {},
   "outputs": [
    {
     "name": "stdout",
     "output_type": "stream",
     "text": [
      "(67 observations deleted)\n"
     ]
    }
   ],
   "source": [
    "set more off \n",
    "    drop if LMS==1"
   ]
  },
  {
   "cell_type": "code",
   "execution_count": 3,
   "id": "31cc56af-17ce-4933-a910-cce23ee57b47",
   "metadata": {},
   "outputs": [
    {
     "name": "stdout",
     "output_type": "stream",
     "text": [
      "checking asdoc consistency and verifying not already installed...\n",
      "all files already exist and are up to date.\n"
     ]
    }
   ],
   "source": [
    "ssc install asdoc"
   ]
  },
  {
   "cell_type": "code",
   "execution_count": 4,
   "id": "fd961a52-a04f-4cef-900c-e7df1669090c",
   "metadata": {},
   "outputs": [
    {
     "name": "stdout",
     "output_type": "stream",
     "text": [
      "Click to Open File:  tables/ta1_variable_descriptions.doc\n"
     ]
    }
   ],
   "source": [
    "asdoc des, replace save(tables/ta1_variable_descriptions) title(Table A1: Variable Descriptions)"
   ]
  },
  {
   "cell_type": "code",
   "execution_count": 5,
   "id": "1a1f387a-a58d-43ae-bea2-b4838279e9b4",
   "metadata": {},
   "outputs": [],
   "source": [
    "describe, replace clear"
   ]
  },
  {
   "cell_type": "code",
   "execution_count": 6,
   "id": "926be744-7535-4f74-803b-f1cae848125e",
   "metadata": {},
   "outputs": [],
   "source": [
    "rename name Variable\n",
    "rename varlab Description"
   ]
  },
  {
   "cell_type": "code",
   "execution_count": 7,
   "id": "1405dee6-ab9a-46ab-9703-e839e649e0f8",
   "metadata": {},
   "outputs": [
    {
     "name": "stdout",
     "output_type": "stream",
     "text": [
      "\n",
      "  +--------------------------------------------------------+\n",
      "  |               Variable                     Description |\n",
      "  |--------------------------------------------------------|\n",
      "  |                 VC_dum                 Venture capital |\n",
      "  |                 PE_dum                  Private Equity |\n",
      "  |           VC_or_PE_dum                           PE/VC |\n",
      "  |         Rev_share_w_TP                   Revenue Share |\n",
      "  |       TP_chgs_per_head    Pricing per head/credit hour |\n",
      "  |          TP_recruiting                     Recruitment |\n",
      "  |          TP_course_dev   Course or program development |\n",
      "  |         TP_instruction          Instructional Services |\n",
      "  |              Expansion                       Expansion |\n",
      "  |              Captivity                       Captivity |\n",
      "  |            invisible_1                  (In)visibility |\n",
      "  |            invisible_2                                 |\n",
      "  |            invisible_3                                 |\n",
      "  |               no_rs_ph             Pricing per service |\n",
      "  |                    LMS      Learning Management System |\n",
      "  |            Institution                     Institution |\n",
      "  |               Provider                        Provider |\n",
      "  |             For_Profit          For Profit third-party |\n",
      "  |              V_PC_None                          VCPENO |\n",
      "  |      Start_mo_contract               Start_mo_contract |\n",
      "  |      Start_yr_contract               Start_yr_contract |\n",
      "  |  Term_primary_contract            Term of the contract |\n",
      "  |   First_start_date_any            First_start_date_any |\n",
      "  |    Last_start_date_any             Last_start_date_any |\n",
      "  | End_date_last_contract          End_date_last_contract |\n",
      "  |                Visible                         Visible |\n",
      "  |     Captivity_AR_INDEF                       Captivity |\n",
      "  |        Online_homepage                 Online_homepage |\n",
      "  |     Amount_of_contract              Amount_of_contract |\n",
      "  |      Rev_share_percent               Rev_share_percent |\n",
      "  |             NoVCPE_dum                         Neither |\n",
      "  |              Visiblerc                                 |\n",
      "  |            invisible_4                                 |\n",
      "  |            provider_rc                        Provider |\n",
      "  |     cat_termofcontract     Term of contract categories |\n",
      "  +--------------------------------------------------------+\n"
     ]
    }
   ],
   "source": [
    "list Variable Description, noobs separator(0) "
   ]
  },
  {
   "cell_type": "code",
   "execution_count": null,
   "id": "34fb9af5-a8e1-43a9-af56-2f3028c06f3e",
   "metadata": {},
   "outputs": [],
   "source": []
  }
 ],
 "metadata": {
  "kernelspec": {
   "display_name": "Stata (nbstata)",
   "language": "stata",
   "name": "nbstata"
  },
  "language_info": {
   "file_extension": ".do",
   "mimetype": "text/x-stata",
   "name": "stata",
   "version": "17"
  }
 },
 "nbformat": 4,
 "nbformat_minor": 5
}
