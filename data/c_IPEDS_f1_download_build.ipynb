{
 "cells": [
  {
   "cell_type": "markdown",
   "id": "58fffa2a-ca00-4512-8baa-dd6ec6f83f3c",
   "metadata": {},
   "source": [
    "## The For-Profit Side of Public U: University Contracts with Online Program Managers\n",
    "\n",
    "### By Laura T. Hamilton, Heather Daniels, Christian Michael Smith,, and Charlie Eaton\n",
    "\n",
    "### Code for downloading and building IPEDS dataset for Figure 1 plot of exclusively online enrollments\n",
    "\n",
    "### Code by Christian Michael Smith and Charlie Eaton"
   ]
  },
  {
   "cell_type": "code",
   "execution_count": 1,
   "id": "2b6387f3-c8bf-4dfb-93e9-8246bd0e9929",
   "metadata": {},
   "outputs": [
    {
     "data": {
      "text/html": [
       "<style>div.jp-Notebook .datagrid-container {min-height: 448px; }</style>"
      ],
      "text/plain": [
       "<IPython.core.display.HTML object>"
      ]
     },
     "metadata": {},
     "output_type": "display_data"
    }
   ],
   "source": [
    "***(I) PREPARE DATA ON ONLINE PREVALENCE***\n",
    "\n",
    "*2012-2018\n",
    "qui {\n",
    "forvalues year=2012/2018 {  \n",
    "\tcopy https://nces.ed.gov/ipeds/datacenter/data/EF`year'A_DIST_Data_Stata.zip ///\n",
    "    EF`year'A_DIST_Data_Stata.zip, replace\n",
    "    }\n",
    "}\n",
    "\n",
    "qui { \n",
    "forvalues year=2012/2018 {\n",
    "    unzipfile EF`year'A_DIST_Data_Stata, replace\n",
    "\tquietly insheet using ef`year'a_dist_rv_data_stata.csv, clear\n",
    "    rm EF`year'A_DIST_Data_Stata.zip\n",
    "    rm ef`year'a_dist_rv_data_stata.csv\n",
    "    rm ef`year'a_dist_data_stata.csv\n",
    "    keep if efdelev==1\n",
    "    keep unitid efdeexc\n",
    "    gen year=`year'\n",
    "    save ef`year'a_dist, replace\n",
    "\t\t}\n",
    "\t}\n",
    "\n",
    "*2019-2020 (coded slightly differently in IPEDS)\n",
    "qui {\n",
    "forvalues year=2019/2020 {  \n",
    "\tcopy https://nces.ed.gov/ipeds/datacenter/data/EF`year'A_DIST_Data_Stata.zip EF`year'A_DIST_Data_Stata.zip, replace\n",
    "\tunzipfile EF`year'A_DIST_Data_Stata, replace\n",
    "    rm EF`year'A_DIST_Data_Stata.zip\n",
    "\tquietly insheet using ef`year'a_dist_data_stata.csv, clear\n",
    "    rm ef`year'a_dist_data_stata.csv\n",
    "    rm ef`year'a_dist_rv_data_stata.csv\n",
    "    keep if efdelev==1\n",
    "    keep unitid efdeexc\n",
    "    gen year=`year'\n",
    "    save ef`year'a_dist, replace\n",
    "\t\t}\n",
    "\t}"
   ]
  },
  {
   "cell_type": "code",
   "execution_count": 2,
   "id": "c8255861-02df-4fd9-b424-ff6f86223007",
   "metadata": {},
   "outputs": [],
   "source": [
    "qui {\n",
    "forvalues year=2012/2020 {\n",
    "\tcopy https://nces.ed.gov/ipeds/datacenter/data/HD`year'_Data_Stata.zip HD`year'_Data_Stata.zip, replace\n",
    "\tunzipfile HD`year'_Data_Stata, replace\n",
    "    rm HD`year'_Data_Stata.zip\n",
    "\tinsheet using hd`year'_data_stata.csv, clear\n",
    "    rm hd`year'_data_stata.csv\n",
    "    keep unitid control\n",
    "    save hd`year'a, replace\n",
    "\t\t}   \n",
    "\t}"
   ]
  },
  {
   "cell_type": "code",
   "execution_count": 3,
   "id": "aadfdd55-b10c-4812-9be8-a109a94e94dc",
   "metadata": {},
   "outputs": [],
   "source": [
    "qui {\n",
    "use hd2012a, clear\n",
    "gen year=2012\n",
    "forvalues year=2013/2020 {\n",
    "\tappend using hd`year'a\n",
    "    replace year=`year' if year==.\n",
    "    rm hd`year'a.dta\n",
    "\t\t}\n",
    "\n",
    "forvalues year=2012/2020 {\n",
    "    merge 1:1 unitid year using ef`year'a_dist, nogen update\n",
    "    rm ef`year'a_dist.dta\n",
    "    }\n",
    "    rm hd2012a.dta\n",
    "}"
   ]
  },
  {
   "cell_type": "code",
   "execution_count": 4,
   "id": "0cec1c56-3117-4228-9e11-a99747762f50",
   "metadata": {},
   "outputs": [
    {
     "name": "stdout",
     "output_type": "stream",
     "text": [
      "file hdefa_dist2012_2020.dta saved\n"
     ]
    }
   ],
   "source": [
    "save hdefa_dist2012_2020, replace"
   ]
  }
 ],
 "metadata": {
  "kernelspec": {
   "display_name": "Stata (nbstata)",
   "language": "stata",
   "name": "nbstata"
  },
  "language_info": {
   "file_extension": ".do",
   "mimetype": "text/x-stata",
   "name": "stata",
   "version": "17"
  }
 },
 "nbformat": 4,
 "nbformat_minor": 5
}
