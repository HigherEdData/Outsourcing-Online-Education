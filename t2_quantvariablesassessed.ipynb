{
 "cells": [
  {
   "cell_type": "code",
   "execution_count": 1,
   "id": "064022ca-fea7-4918-93c4-90ab7d9385c8",
   "metadata": {},
   "outputs": [],
   "source": [
    "quietly {\n",
    "use OPM_database_paperJN.dta, clear\n",
    "set more off \n",
    "}\n"
   ]
  },
  {
   "cell_type": "code",
   "execution_count": 2,
   "id": "3bb16773",
   "metadata": {},
   "outputs": [
    {
     "name": "stdout",
     "output_type": "stream",
     "text": [
      "\n",
      "\n",
      "(0 real changes made)\n",
      "(0 real changes made)\n",
      "(0 real changes made)\n",
      "(0 real changes made)\n",
      "(0 real changes made)\n",
      "(5 real changes made)\n",
      "(5 real changes made)\n",
      "(5 real changes made)\n",
      "(6 real changes made)\n",
      "(3 real changes made)\n",
      "(4 real changes made)\n",
      "(94 real changes made)\n",
      "(3 real changes made)\n",
      "(4 real changes made)\n",
      "\n",
      "\n",
      "file Quantitative Variables Assessed in Third-Party Contracts.xlsx saved\n",
      ".\n",
      "\n",
      "Descriptive statistics table has been saved in the folder:\n",
      "C:\\Users\\19157\\Desktop\\OPM Paper\\Github Repos\\Outsourcing-Online-Education\n"
     ]
    }
   ],
   "source": [
    "order cat_termofcontract For_Profit LMS VC_dum PE_dum NoVCPE_dum ///\n",
    "Rev_share_w_TP TP_chgs_per_head no_rs_ph ///\n",
    "TP_recruiting TP_course_dev TP_instruction invisible_1 Expansion Captivity_AR_INDEF\n",
    "\n",
    "\n",
    "foreach var of varlist For_Profit-Captivity_AR_INDEF {\n",
    "\treplace `var'=999 if `var'==.\n",
    "}\n",
    "\n",
    "foreach var of varlist For_Profit-Captivity_AR_INDEF {\n",
    "\tlabel val `var' yncs\n",
    "}\n",
    "\n",
    "desctable i.cat_termofcontract i.For_Profit i.LMS i.VC_dum i.PE_dum i.NoVCPE_dum ///\n",
    "i.Rev_share_w_TP i.TP_chgs_per_head i.no_rs_ph ///\n",
    "i.TP_recruiting i.TP_course_dev i.TP_instruction i.invisible_1 i.Expansion i.Captivity_AR_INDEF, ///\n",
    "     filename(\"Quantitative Variables Assessed in Third-Party Contracts\") ///\n",
    "\t stats(mean) fontsize(10) title(\"Quantitative Variables Assessed in Third-Party Contracts\") ///\n",
    "\t decimals(3) ///\n",
    "\t note(\"999 represents missing data\")"
   ]
  },
  {
   "cell_type": "code",
   "execution_count": null,
   "id": "e32b5e2f",
   "metadata": {},
   "outputs": [],
   "source": []
  }
 ],
 "metadata": {
  "kernelspec": {
   "display_name": "Stata",
   "language": "stata",
   "name": "stata"
  },
  "language_info": {
   "codemirror_mode": "stata",
   "file_extension": ".do",
   "mimetype": "text/x-stata",
   "name": "stata",
   "version": "15.1"
  }
 },
 "nbformat": 4,
 "nbformat_minor": 5
}
